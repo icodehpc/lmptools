{
 "cells": [
  {
   "cell_type": "code",
   "execution_count": 1,
   "source": [
    "from lmptools import Dump, DumpCallback, DumpSnapshot\n",
    "from lmptools.exceptions import SkipSnapshot\n",
    "from typing import List\n",
    "import numpy as np"
   ],
   "outputs": [],
   "metadata": {}
  },
  {
   "cell_type": "code",
   "execution_count": 2,
   "source": [
    "#selected_timestamps = np.sort(np.random.choice(np.arange(9000000, 10002000, 2000), 2))"
   ],
   "outputs": [],
   "metadata": {}
  },
  {
   "cell_type": "code",
   "execution_count": 3,
   "source": [
    "class PrintSnapshot(DumpCallback):\n",
    "    def __init__(self, timestamps):\n",
    "        self.timestamps = timestamps\n",
    "\n",
    "    def on_snapshot_parse_timestamp(self, timestamp: int, *args, **kwargs):\n",
    "        pass\n"
   ],
   "outputs": [],
   "metadata": {}
  },
  {
   "cell_type": "code",
   "execution_count": 4,
   "source": [
    "drigid = Dump(\"dump.rigidChains.lammpstrj\", unwrap=True)# callback=PrintSnapshot(selected_timestamps))\n",
    "dpolymer = Dump(\"dump.flexChains.lammpstrj\", unwrap=True)#, callback=PrintSnapshot(selected_timestamps))"
   ],
   "outputs": [],
   "metadata": {}
  },
  {
   "cell_type": "code",
   "execution_count": 5,
   "source": [
    "with open('dump.melt.lammpstrj', 'w') as f:\n",
    "    for rigid_snap, polymer_snap in zip(drigid, dpolymer):\n",
    "        df = (rigid_snap+polymer_snap)\n",
    "        f.write(str(df)+\"\\n\")\n",
    "f.close()"
   ],
   "outputs": [],
   "metadata": {}
  },
  {
   "cell_type": "code",
   "execution_count": null,
   "source": [],
   "outputs": [],
   "metadata": {}
  }
 ],
 "metadata": {
  "orig_nbformat": 4,
  "language_info": {
   "name": "python",
   "version": "3.8.8",
   "mimetype": "text/x-python",
   "codemirror_mode": {
    "name": "ipython",
    "version": 3
   },
   "pygments_lexer": "ipython3",
   "nbconvert_exporter": "python",
   "file_extension": ".py"
  },
  "kernelspec": {
   "name": "python3",
   "display_name": "Python 3.8.8 64-bit ('lmptools-JZNjlOcm-py3.8': poetry)"
  },
  "interpreter": {
   "hash": "f16200de01fd3b6506da6ee2b40beb4ef6cb783dc5627ddbe3b4837be19461ac"
  }
 },
 "nbformat": 4,
 "nbformat_minor": 2
}
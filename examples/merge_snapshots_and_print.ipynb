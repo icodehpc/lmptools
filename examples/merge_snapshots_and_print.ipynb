{
 "cells": [
  {
   "cell_type": "code",
   "execution_count": null,
   "source": [
    "from lmptools import Dump, DumpCallback, DumpSnapshot\n",
    "from lmptools.exceptions import SkipSnapshot\n",
    "from typing import List\n",
    "import numpy as np"
   ],
   "outputs": [],
   "metadata": {}
  },
  {
   "cell_type": "code",
   "execution_count": null,
   "source": [
    "dumpfile1 = \"/storage/backups/seagate/polymer_melts/simulations/melts_non_thermosttated_runs/one_epsilon/phi0d2_r125_p1000/run1/dump.rigidChains.lammpstrj\"\n",
    "dumpfile2 = \"/storage/backups/seagate/polymer_melts/simulations/melts_non_thermosttated_runs/one_epsilon/phi0d2_r125_p1000/run1/dump.flexChains.lammpstrj\""
   ],
   "outputs": [],
   "metadata": {}
  },
  {
   "cell_type": "code",
   "execution_count": null,
   "source": [
    "class PrintProgress(DumpCallback):\n",
    "    def __init__(self, selected_timestamps):\n",
    "        self.timestamps = selected_timestamps\n",
    "\n",
    "    def on_snapshot_parse_timestamp(self, timestamp: int, *args, **kwargs):\n",
    "        if timestamp not in self.timestamps:\n",
    "            raise SkipSnapshot(f\"Snapshot skipped for {timestamp}\")\n",
    "\n",
    "    def on_snapshot_parse_end(self, snapshot: DumpSnapshot, *args, **kwargs):\n",
    "        print(f\"Snapshot {snapshot.timestamp} parsed\")"
   ],
   "outputs": [],
   "metadata": {}
  },
  {
   "cell_type": "markdown",
   "source": [
    "### Randomly select 50 timestamps from the raw dump files"
   ],
   "metadata": {}
  },
  {
   "cell_type": "code",
   "execution_count": null,
   "source": [
    "tselect = np.random.choice(np.arange(9000000, 10002000, 2000), 50)"
   ],
   "outputs": [],
   "metadata": {}
  },
  {
   "cell_type": "code",
   "execution_count": null,
   "source": [
    "drigid = Dump(dumpfile1, unwrap=True, callback=PrintProgress(tselect))\n",
    "dpolymer = Dump(dumpfile2, unwrap=True, callback=PrintProgress(tselect))"
   ],
   "outputs": [],
   "metadata": {}
  },
  {
   "cell_type": "code",
   "execution_count": null,
   "source": [
    "with open('dump.melt.lammpstrj', 'w') as f:\n",
    "    for rigid_snap, polymer_snap in zip(drigid, dpolymer):\n",
    "        df = (rigid_snap+polymer_snap)\n",
    "        f.write(str(df)+\"\\n\")\n",
    "f.close()"
   ],
   "outputs": [],
   "metadata": {}
  },
  {
   "cell_type": "code",
   "execution_count": null,
   "source": [],
   "outputs": [],
   "metadata": {}
  }
 ],
 "metadata": {
  "orig_nbformat": 4,
  "language_info": {
   "name": "python",
   "version": "3.8.7",
   "mimetype": "text/x-python",
   "codemirror_mode": {
    "name": "ipython",
    "version": 3
   },
   "pygments_lexer": "ipython3",
   "nbconvert_exporter": "python",
   "file_extension": ".py"
  },
  "kernelspec": {
   "name": "python3",
   "display_name": "Python 3.8.7 64-bit ('lmptools-z4S9BOKY-py3.8': poetry)"
  },
  "interpreter": {
   "hash": "674d1944a7abdea2ad3af2416471abf00ca194345a03a7c3a23d7332c086babc"
  }
 },
 "nbformat": 4,
 "nbformat_minor": 2
}
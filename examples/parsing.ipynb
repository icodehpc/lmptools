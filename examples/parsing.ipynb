{
 "cells": [
  {
   "cell_type": "code",
   "execution_count": 1,
   "source": [
    "from lmptools import Dump, DumpCallback, DumpFileIterator\n",
    "from lmptools.exceptions import SkipSnapshot"
   ],
   "outputs": [],
   "metadata": {}
  },
  {
   "cell_type": "code",
   "execution_count": 2,
   "source": [
    "class MyCallback(DumpCallback):\n",
    "    def on_snapshot_parse_time(self, timestamp: int):\n",
    "        if timestamp < 6000:\n",
    "            raise SkipSnapshot(f\"snap {timestamp} skipped\")"
   ],
   "outputs": [],
   "metadata": {}
  },
  {
   "cell_type": "code",
   "execution_count": 7,
   "source": [
    "d = Dump(\"dump.test.lammpstrj\")"
   ],
   "outputs": [],
   "metadata": {}
  },
  {
   "cell_type": "code",
   "execution_count": 10,
   "source": [
    "d.parse(callback = MyCallback())"
   ],
   "outputs": [
    {
     "output_type": "execute_result",
     "data": {
      "text/plain": [
       "<generator object Dump.parse at 0x7fe4bd5844a0>"
      ]
     },
     "metadata": {},
     "execution_count": 10
    }
   ],
   "metadata": {}
  },
  {
   "cell_type": "code",
   "execution_count": null,
   "source": [],
   "outputs": [],
   "metadata": {}
  }
 ],
 "metadata": {
  "kernelspec": {
   "name": "python3",
   "display_name": "Python 3.8.8 64-bit ('lmptools-JZNjlOcm-py3.8': poetry)"
  },
  "language_info": {
   "codemirror_mode": {
    "name": "ipython",
    "version": 3
   },
   "file_extension": ".py",
   "mimetype": "text/x-python",
   "name": "python",
   "nbconvert_exporter": "python",
   "pygments_lexer": "ipython3",
   "version": "3.8.8"
  },
  "interpreter": {
   "hash": "f16200de01fd3b6506da6ee2b40beb4ef6cb783dc5627ddbe3b4837be19461ac"
  }
 },
 "nbformat": 4,
 "nbformat_minor": 5
}
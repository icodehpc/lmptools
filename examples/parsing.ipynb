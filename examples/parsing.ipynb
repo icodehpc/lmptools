{
 "cells": [
  {
   "cell_type": "code",
   "execution_count": 2,
   "id": "d8df4ca3",
   "metadata": {},
   "outputs": [],
   "source": [
    "from lmptools import Dump, DumpCallback, SimulationBox, Atom, DumpSnapshot\n",
    "from pydantic import parse_obj_as\n",
    "from lmptools.exceptions import SkipSnapshot\n",
    "import random"
   ]
  },
  {
   "cell_type": "code",
   "execution_count": 3,
   "id": "e71f5ecb",
   "metadata": {},
   "outputs": [],
   "source": [
    "def dump_file():\n",
    "    # Create a dump file\n",
    "    filename = \"dump.test.lammpstrj\"\n",
    "    num_timesteps = random.randint(10, 100)\n",
    "\n",
    "    snapshots = []\n",
    "    with open(filename, \"w\") as f:\n",
    "        for _ in range(num_timesteps):\n",
    "            timestep = random.randint(10000, 100000)\n",
    "            num_atoms = random.randint(10, 100)\n",
    "            box_length = random.random()\n",
    "            xlo = -box_length\n",
    "            xhi = box_length\n",
    "            ylo = -box_length\n",
    "            yhi = box_length\n",
    "            zlo = -box_length\n",
    "            zhi = box_length\n",
    "\n",
    "            box = SimulationBox(xlo=xlo, xhi=xhi, ylo=ylo, yhi=yhi,\n",
    "                                zlo=zlo, zhi=zhi, xprd='pp', yprd='pp', zprd='pp')\n",
    "\n",
    "            dump_colnames: str = \"\"\n",
    "            if random.random() <= 0.25:\n",
    "                dump_colnames = \"id type mol x y z ix iy iz\"\n",
    "            elif random.random() > 0.25 or random.random() <= 0.5:\n",
    "                dump_colnames = \"id type mol x xu xsu yu z ix iy\"\n",
    "            else:\n",
    "                dump_colnames = \"id type mol x y zu zs z\"\n",
    "\n",
    "            f.write(\"ITEM: TIMESTEP\\n\")\n",
    "            f.write(f\"{timestep}\\n\")\n",
    "            f.write(\"ITEM: NUMBER OF ATOMS\\n\")\n",
    "            f.write(f\"{num_atoms}\\n\")\n",
    "            f.write(\"ITEM: BOX BOUNDS pp pp pp\\n\")\n",
    "            f.write(f\"{xlo} {xhi}\\n\")\n",
    "            f.write(f\"{ylo} {yhi}\\n\")\n",
    "            f.write(f\"{zlo} {zhi}\\n\")\n",
    "\n",
    "            f.write(f\"ITEM: ATOMS {dump_colnames}\\n\")\n",
    "            atoms = []\n",
    "            for _ in range(num_atoms):\n",
    "                entry = {}\n",
    "                random_numbers = [random.random()+random.randint(100, 1000) for _ in range(len(dump_colnames))]\n",
    "                for key, value in zip(dump_colnames.split(), random_numbers):\n",
    "                    entry[key] = value\n",
    "                atom = parse_obj_as(Atom, entry)\n",
    "                atoms.append(atom)\n",
    "                f.write(\" \".join([str(atom.__dict__[key]) for key in dump_colnames.split()])+\"\\n\")\n",
    "\n",
    "            snapshots.append(DumpSnapshot(timestamp=timestep, natoms=num_atoms, box=box, atoms=atoms, unwrapped=False))\n",
    "    f.close()\n",
    "\n",
    "\n",
    "# Create the dump file\n",
    "dump_file()"
   ]
  },
  {
   "cell_type": "markdown",
   "id": "79a7fbd2",
   "metadata": {},
   "source": [
    "### Callack to skip all snapshots with timestamp < 6000"
   ]
  },
  {
   "cell_type": "code",
   "execution_count": 16,
   "id": "14f091be",
   "metadata": {},
   "outputs": [],
   "source": [
    "class MyCallback(DumpCallback):\n",
    "    def on_snapshot_parse_time(self, timestamp: int):\n",
    "        if timestamp < 100:\n",
    "            raise SkipSnapshot(f\"snap {timestamp} skipped\")"
   ]
  },
  {
   "cell_type": "code",
   "execution_count": 17,
   "id": "616730de",
   "metadata": {},
   "outputs": [],
   "source": [
    "d = Dump(\"dump.test.lammpstrj\", callbacks=MyCallback())"
   ]
  },
  {
   "cell_type": "markdown",
   "id": "7a60c6f2",
   "metadata": {},
   "source": [
    "### Parse the dump file"
   ]
  },
  {
   "cell_type": "code",
   "execution_count": 18,
   "id": "91dbaaa1",
   "metadata": {},
   "outputs": [],
   "source": [
    "d.parse()"
   ]
  },
  {
   "cell_type": "code",
   "execution_count": null,
   "id": "332de4f8",
   "metadata": {},
   "outputs": [],
   "source": []
  }
 ],
 "metadata": {
  "interpreter": {
   "hash": "f16200de01fd3b6506da6ee2b40beb4ef6cb783dc5627ddbe3b4837be19461ac"
  },
  "kernelspec": {
   "display_name": "Python 3 (ipykernel)",
   "language": "python",
   "name": "python3"
  },
  "language_info": {
   "codemirror_mode": {
    "name": "ipython",
    "version": 3
   },
   "file_extension": ".py",
   "mimetype": "text/x-python",
   "name": "python",
   "nbconvert_exporter": "python",
   "pygments_lexer": "ipython3",
   "version": "3.9.7"
  }
 },
 "nbformat": 4,
 "nbformat_minor": 5
}

{
 "cells": [
  {
   "cell_type": "code",
   "execution_count": null,
   "source": [
    "from lmptools import Dump, DumpCallback, DumpSnapshot\n",
    "from lmptools.exceptions import SkipSnapshot\n",
    "from typing import List\n",
    "import pandas as pd"
   ],
   "outputs": [],
   "metadata": {}
  },
  {
   "cell_type": "code",
   "execution_count": null,
   "source": [
    "import numpy as np"
   ],
   "outputs": [],
   "metadata": {}
  },
  {
   "cell_type": "code",
   "execution_count": null,
   "source": [
    "np.sort(np.random.choice(np.arange(9000000, 10002000, 2000), 20))"
   ],
   "outputs": [],
   "metadata": {}
  },
  {
   "cell_type": "code",
   "execution_count": null,
   "source": [
    "class MyCallback(DumpCallback):\n",
    "    def __init__(self, random_timesteps):\n",
    "        self.timesteps = random_timesteps\n",
    "        self.parsed_snapshots: List[DumpSnapshot] = []\n",
    "\n",
    "    def on_snapshot_parse_timestamp(self, timestamp: int):\n",
    "        if timestamp not in self.timesteps:\n",
    "            raise SkipSnapshot(f\"{timestamp} skipped\")\n",
    "\n",
    "    def on_snapshot_parse_end(self, snapshot: DumpSnapshot):\n",
    "        print(\"snapshot parsed\")\n",
    "        self.parsed_snapshots.append(snapshot)\n"
   ],
   "outputs": [],
   "metadata": {}
  },
  {
   "cell_type": "code",
   "execution_count": null,
   "source": [
    "d = Dump(\"dump.rigidChains.lammpstrj\", callback=MyCallback(np.sort(np.random.choice(np.arange(9000000, 10002000, 2000), 20))))"
   ],
   "outputs": [],
   "metadata": {}
  },
  {
   "cell_type": "code",
   "execution_count": null,
   "source": [
    "d.parse()"
   ],
   "outputs": [],
   "metadata": {}
  },
  {
   "cell_type": "code",
   "execution_count": null,
   "source": [],
   "outputs": [],
   "metadata": {}
  }
 ],
 "metadata": {
  "kernelspec": {
   "name": "python3",
   "display_name": "Python 3.8.8 64-bit ('lmptools-JZNjlOcm-py3.8': poetry)"
  },
  "language_info": {
   "codemirror_mode": {
    "name": "ipython",
    "version": 3
   },
   "file_extension": ".py",
   "mimetype": "text/x-python",
   "name": "python",
   "nbconvert_exporter": "python",
   "pygments_lexer": "ipython3",
   "version": "3.8.8"
  },
  "interpreter": {
   "hash": "f16200de01fd3b6506da6ee2b40beb4ef6cb783dc5627ddbe3b4837be19461ac"
  }
 },
 "nbformat": 4,
 "nbformat_minor": 5
}
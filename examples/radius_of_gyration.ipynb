{
 "cells": [
  {
   "cell_type": "code",
   "execution_count": null,
   "id": "aae22736-1720-466c-aeca-46aedbbcff5d",
   "metadata": {},
   "outputs": [],
   "source": [
    "from lmptools.dump import DumpFileIterator\n",
    "from lmptools.polymers import Polymer\n",
    "from lmptools.atom import Atom"
   ]
  },
  {
   "cell_type": "code",
   "execution_count": null,
   "id": "f5bc27e9",
   "metadata": {},
   "outputs": [],
   "source": [
    "dfile = DumpFileIterator(\"/storage/polymer_melts_simulations_raw_datasets/one_epsilon/phi0_r0_p1000/run1/dump.flexChains.lammpstrj\", unwrap=True)"
   ]
  },
  {
   "cell_type": "code",
   "execution_count": null,
   "id": "26e19a31",
   "metadata": {},
   "outputs": [],
   "source": [
    "import pandas as pd\n",
    "import numpy as np"
   ]
  },
  {
   "cell_type": "code",
   "execution_count": null,
   "id": "3ba1b1ba",
   "metadata": {},
   "outputs": [],
   "source": [
    "radius_of_gyration = []\n",
    "for snapshot in dfile:\n",
    "    for polymer in np.split(snapshot.dataframe, 1000):\n",
    "        atoms = []\n",
    "        polymer.apply(lambda x: atoms.append(Atom(**x.to_dict())), axis=1)\n",
    "        radius_of_gyration.append(Polymer(atoms=atoms).rg)"
   ]
  },
  {
   "cell_type": "code",
   "execution_count": null,
   "id": "5d04ef7b",
   "metadata": {},
   "outputs": [],
   "source": [
    "np.mean(radius_of_gyration)"
   ]
  },
  {
   "cell_type": "code",
   "execution_count": null,
   "id": "89407928",
   "metadata": {},
   "outputs": [],
   "source": []
  }
 ],
 "metadata": {
  "kernelspec": {
   "display_name": "Python 3 (ipykernel)",
   "language": "python",
   "name": "python3"
  },
  "language_info": {
   "codemirror_mode": {
    "name": "ipython",
    "version": 3
   },
   "file_extension": ".py",
   "mimetype": "text/x-python",
   "name": "python",
   "nbconvert_exporter": "python",
   "pygments_lexer": "ipython3",
   "version": "3.8.10"
  }
 },
 "nbformat": 4,
 "nbformat_minor": 5
}
